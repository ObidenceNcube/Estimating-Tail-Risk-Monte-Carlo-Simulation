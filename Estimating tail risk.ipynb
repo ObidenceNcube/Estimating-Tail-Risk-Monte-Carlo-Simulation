{
 "cells": [
  {
   "cell_type": "markdown",
   "id": "22011030",
   "metadata": {},
   "source": [
    "# Estimating Tail Risk"
   ]
  },
  {
   "cell_type": "raw",
   "id": "ebc89821",
   "metadata": {},
   "source": [
    "Historical Drawdown\n",
    "Value at Risk\n",
    "Conditional Value at Risk\n",
    "Monte-Carlo Simulation"
   ]
  },
  {
   "cell_type": "code",
   "execution_count": 15,
   "id": "f62f1eb7",
   "metadata": {},
   "outputs": [],
   "source": [
    "import numpy as np\n",
    "import pandas as pd\n",
    "import matplotlib.pyplot as plt"
   ]
  },
  {
   "cell_type": "code",
   "execution_count": 24,
   "id": "ede546f7",
   "metadata": {},
   "outputs": [],
   "source": [
    "# Loading Data\n",
    "data = pd.read_csv(r\"C:\\Users\\obien\\OneDrive\\Desktop\\Portfolio_2023\\Data\\Stocks\\USO.csv\")"
   ]
  },
  {
   "cell_type": "code",
   "execution_count": 25,
   "id": "1c4bc4e6",
   "metadata": {},
   "outputs": [
    {
     "data": {
      "text/html": [
       "<div>\n",
       "<style scoped>\n",
       "    .dataframe tbody tr th:only-of-type {\n",
       "        vertical-align: middle;\n",
       "    }\n",
       "\n",
       "    .dataframe tbody tr th {\n",
       "        vertical-align: top;\n",
       "    }\n",
       "\n",
       "    .dataframe thead th {\n",
       "        text-align: right;\n",
       "    }\n",
       "</style>\n",
       "<table border=\"1\" class=\"dataframe\">\n",
       "  <thead>\n",
       "    <tr style=\"text-align: right;\">\n",
       "      <th></th>\n",
       "      <th>Date</th>\n",
       "      <th>USO</th>\n",
       "    </tr>\n",
       "  </thead>\n",
       "  <tbody>\n",
       "    <tr>\n",
       "      <th>0</th>\n",
       "      <td>2007-01-03</td>\n",
       "      <td>-0.042636</td>\n",
       "    </tr>\n",
       "    <tr>\n",
       "      <th>1</th>\n",
       "      <td>2007-01-04</td>\n",
       "      <td>-0.040688</td>\n",
       "    </tr>\n",
       "    <tr>\n",
       "      <th>2</th>\n",
       "      <td>2007-01-05</td>\n",
       "      <td>0.009285</td>\n",
       "    </tr>\n",
       "    <tr>\n",
       "      <th>3</th>\n",
       "      <td>2007-01-08</td>\n",
       "      <td>-0.007109</td>\n",
       "    </tr>\n",
       "    <tr>\n",
       "      <th>4</th>\n",
       "      <td>2007-01-09</td>\n",
       "      <td>-0.004001</td>\n",
       "    </tr>\n",
       "  </tbody>\n",
       "</table>\n",
       "</div>"
      ],
      "text/plain": [
       "         Date       USO\n",
       "0  2007-01-03 -0.042636\n",
       "1  2007-01-04 -0.040688\n",
       "2  2007-01-05  0.009285\n",
       "3  2007-01-08 -0.007109\n",
       "4  2007-01-09 -0.004001"
      ]
     },
     "execution_count": 25,
     "metadata": {},
     "output_type": "execute_result"
    }
   ],
   "source": [
    "data.head()"
   ]
  },
  {
   "cell_type": "code",
   "execution_count": 30,
   "id": "17ec7f37",
   "metadata": {},
   "outputs": [
    {
     "data": {
      "text/plain": [
       "0      -1.042636\n",
       "1      -1.040688\n",
       "2      -0.990715\n",
       "3      -1.007109\n",
       "4      -1.004001\n",
       "          ...   \n",
       "2764   -0.998282\n",
       "2765   -0.975129\n",
       "2766   -1.002510\n",
       "2767   -0.995805\n",
       "2768   -0.996658\n",
       "Name: USO, Length: 2769, dtype: float64"
      ]
     },
     "execution_count": 30,
     "metadata": {},
     "output_type": "execute_result"
    }
   ],
   "source": [
    "# Historical Drawdown\n",
    "running_max = np.maximum.accumulate(data['USO'])\n",
    "running_max[running_max < 1] = 1\n",
    "drawdown = (data['USO']) / running_max - 1\n",
    "drawdown"
   ]
  },
  {
   "cell_type": "code",
   "execution_count": 31,
   "id": "887f9802",
   "metadata": {},
   "outputs": [
    {
     "data": {
      "text/plain": [
       "-0.05054143158346778"
      ]
     },
     "execution_count": 31,
     "metadata": {},
     "output_type": "execute_result"
    }
   ],
   "source": [
    "# Historical VaR\n",
    "var_level = 95\n",
    "var_95 = np.percentile(data['USO'], 100 - var_level)\n",
    "cvar_95 = data['USO'][data['USO'] <= var_95].mean()\n",
    "cvar_95"
   ]
  },
  {
   "cell_type": "code",
   "execution_count": 38,
   "id": "b69646da",
   "metadata": {},
   "outputs": [
    {
     "name": "stderr",
     "output_type": "stream",
     "text": [
      "C:\\Users\\obien\\anaconda3\\lib\\site-packages\\numpy\\core\\fromnumeric.py:3430: FutureWarning: In a future version, DataFrame.mean(axis=None) will return a scalar mean over the entire DataFrame. To retain the old behavior, use 'frame.mean(axis=0)' or just 'frame.mean()'\n",
      "  return mean(axis=axis, dtype=dtype, out=out, **kwargs)\n",
      "C:\\Users\\obien\\anaconda3\\lib\\site-packages\\numpy\\core\\fromnumeric.py:3430: FutureWarning: Dropping of nuisance columns in DataFrame reductions (with 'numeric_only=None') is deprecated; in a future version this will raise TypeError.  Select only valid columns before calling the reduction.\n",
      "  return mean(axis=axis, dtype=dtype, out=out, **kwargs)\n",
      "C:\\Users\\obien\\anaconda3\\lib\\site-packages\\numpy\\core\\fromnumeric.py:3571: FutureWarning: Dropping of nuisance columns in DataFrame reductions (with 'numeric_only=None') is deprecated; in a future version this will raise TypeError.  Select only valid columns before calling the reduction.\n",
      "  return std(axis=axis, dtype=dtype, out=out, ddof=ddof, **kwargs)\n"
     ]
    },
    {
     "data": {
      "text/plain": [
       "array([-0.03628909])"
      ]
     },
     "execution_count": 38,
     "metadata": {},
     "output_type": "execute_result"
    }
   ],
   "source": [
    "# Parametric VaR\n",
    "from scipy.stats import norm\n",
    "mu = np.mean(data)\n",
    "std = np.std(data)\n",
    "confidence_level = 0.05\n",
    "VaR = norm.ppf(confidence_level, mu, std)\n",
    "VaR"
   ]
  },
  {
   "cell_type": "code",
   "execution_count": 40,
   "id": "fdc44807",
   "metadata": {},
   "outputs": [
    {
     "data": {
      "text/plain": [
       "-0.08068255975097778"
      ]
     },
     "execution_count": 40,
     "metadata": {},
     "output_type": "execute_result"
    }
   ],
   "source": [
    "# Scaling Risk\n",
    "forecast_days = 5\n",
    "forecast_var95_5day = var_95*np.sqrt(forecast_days)\n",
    "forecast_var95_5day"
   ]
  },
  {
   "cell_type": "code",
   "execution_count": 41,
   "id": "3e9a7b94",
   "metadata": {},
   "outputs": [
    {
     "data": {
      "text/plain": [
       "array([10.23363862, 10.27844532, 10.31164104, 10.10510053, 10.15016261,\n",
       "       10.09397688, 10.12821777, 10.55613453, 10.52838553, 10.28419647,\n",
       "       10.4405201 , 10.7241473 , 10.85270948, 10.77842007, 11.23527424,\n",
       "       11.29986973, 11.4496935 , 11.14339631, 11.26441102, 11.35223785,\n",
       "       10.991206  , 10.87647667, 11.25894951, 10.73350843, 10.50750454,\n",
       "       10.60762659, 10.46858446, 10.54868911, 10.48846158, 10.86772193,\n",
       "       10.76692745, 10.97714653, 10.96724509, 11.07565994, 11.22560079,\n",
       "       11.58029947, 11.73371712, 11.92064516, 12.10579901, 12.5520157 ,\n",
       "       12.39062837, 12.64963382, 13.11593234, 13.4885396 , 13.31839829,\n",
       "       13.29547782, 13.28086091, 13.24294078, 13.58722428, 13.58747169,\n",
       "       13.65087865, 13.65412624, 13.16520853, 13.2308569 , 13.57074424,\n",
       "       14.39460905, 14.16414129, 14.00145596, 13.83902987, 13.29760727,\n",
       "       13.61400253, 13.39121127, 13.60939347, 13.34884706, 13.56274805,\n",
       "       13.59201445, 13.08504188, 13.50087958, 13.74317199, 14.37906722,\n",
       "       14.55773412, 14.63380259, 14.4645869 , 14.92071264, 14.92459313,\n",
       "       14.50481612, 14.13655201, 13.95676783, 13.95938394, 14.09593417,\n",
       "       14.41374177, 14.11053102, 14.16908363, 13.68015072, 13.8038838 ,\n",
       "       13.45759451, 13.12729554, 12.89156042, 13.10326079, 13.54581696,\n",
       "       13.64928198, 13.75637124, 14.15559991, 14.40354518, 14.39854341,\n",
       "       14.33039529, 14.39871884, 14.65723202, 14.60985842, 15.02856922,\n",
       "       14.71330318, 14.47806296, 14.1017261 , 14.06304445, 13.93163507,\n",
       "       14.17435428, 13.74224606, 14.12352957, 14.62483734, 14.0116353 ,\n",
       "       13.80937797, 13.6303    , 13.70871235, 13.25809005, 13.85097535,\n",
       "       14.2120845 , 14.437819  , 13.82989091, 13.8220199 , 13.53323892,\n",
       "       13.08809647, 13.25446411, 13.08652588, 13.40526745, 12.90572311,\n",
       "       12.08851475, 11.94335878, 11.64945615, 11.35923971, 11.15306742,\n",
       "       11.47441206, 11.25566378, 11.36439097, 11.03592184, 10.9423758 ,\n",
       "       11.02261105, 11.22096258, 11.2492572 , 11.13070463, 11.10152452,\n",
       "       11.28012055, 11.61935617, 11.54880236, 11.65732779, 11.37060044,\n",
       "       11.49121344, 11.23457299, 10.88624396, 10.89092397, 10.72541251,\n",
       "       10.7089759 , 10.66624279, 10.95848506, 10.89834178, 10.61468375,\n",
       "       10.20154527, 10.55689936, 10.69626939, 11.13843574, 10.82888972,\n",
       "       10.83470533, 11.16313922, 11.3917721 , 11.20270502, 11.39148357,\n",
       "       11.7435909 , 11.94859127, 11.82005431, 12.29003946, 12.24133786,\n",
       "       12.6153929 , 12.50910122, 11.978075  , 12.54908152, 12.07290555,\n",
       "       12.0408395 , 11.88608309, 12.06260462, 11.96063315, 11.83815898,\n",
       "       11.54142229, 11.28656227, 11.23454188, 11.53295614, 11.74156862,\n",
       "       11.94473912, 12.02800292, 12.22853044, 11.86827054, 11.66587797,\n",
       "       11.61593661, 11.34549413, 11.37039303, 11.33792499, 11.37745969,\n",
       "       11.05252323, 11.11268849, 10.65961295, 10.78420986, 10.7449469 ,\n",
       "       10.66915564, 10.66524723, 10.42969514, 10.68247348, 10.57381775,\n",
       "       10.88043583, 10.84625069, 10.6458752 , 10.59523542, 10.20491348,\n",
       "       10.58189328, 10.83693067, 11.32335582, 12.05278608, 11.66659559,\n",
       "       12.15962479, 12.23751981, 12.30213513, 12.5346005 , 12.52012702,\n",
       "       12.29335316, 12.18477589, 12.22504914, 12.32454739, 12.20146315,\n",
       "       12.26404376, 11.95927815, 11.95780453, 11.38180714, 11.22000378,\n",
       "       11.15361621, 11.18518866, 10.86425747, 10.874935  , 10.79058242,\n",
       "       10.72094835, 10.96477855, 10.93589066, 11.10985737, 10.74640731,\n",
       "       10.94108565, 11.18319308, 11.2498765 , 11.11977556, 10.98852888,\n",
       "       10.74126647, 10.67948909, 10.20028404,  9.84450267,  9.79614156,\n",
       "        9.86272812, 10.05634944])"
      ]
     },
     "execution_count": 41,
     "metadata": {},
     "output_type": "execute_result"
    }
   ],
   "source": [
    "# Random Walks\n",
    "mu = np.mean(data)\n",
    "std = np.std(data)\n",
    "T = 252\n",
    "S0 = 10\n",
    "rand_rets = np.random.normal(mu, std, T) + 1\n",
    "forecasted_values = S0 * (rand_rets.cumprod())\n",
    "forecasted_values"
   ]
  },
  {
   "cell_type": "code",
   "execution_count": 43,
   "id": "9cc9f1a9",
   "metadata": {},
   "outputs": [
    {
     "data": {
      "text/plain": [
       "-0.0011179146099201344"
      ]
     },
     "execution_count": 43,
     "metadata": {},
     "output_type": "execute_result"
    }
   ],
   "source": [
    "# Monte Carlo Simulations\n",
    "mu = 0.0005\n",
    "vol = 0.001\n",
    "T = 252\n",
    "sim_returns = []\n",
    "for i in range(100):\n",
    "    rand_rets = np.random.normal(mu, vol, T)\n",
    "    sim_returns.append(rand_rets)\n",
    "var_95 = np.percentile(sim_returns, 5)\n",
    "var_95"
   ]
  },
  {
   "cell_type": "code",
   "execution_count": null,
   "id": "0d629f38",
   "metadata": {},
   "outputs": [],
   "source": []
  }
 ],
 "metadata": {
  "kernelspec": {
   "display_name": "Python 3 (ipykernel)",
   "language": "python",
   "name": "python3"
  },
  "language_info": {
   "codemirror_mode": {
    "name": "ipython",
    "version": 3
   },
   "file_extension": ".py",
   "mimetype": "text/x-python",
   "name": "python",
   "nbconvert_exporter": "python",
   "pygments_lexer": "ipython3",
   "version": "3.9.7"
  }
 },
 "nbformat": 4,
 "nbformat_minor": 5
}
